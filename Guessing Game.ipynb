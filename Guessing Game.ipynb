{
 "cells": [
  {
   "cell_type": "markdown",
   "metadata": {},
   "source": [
    "Rules:\n",
    "A random word is chosen from a full dictionary list. A player starts with 7 guesses.\n",
    "On each turn, a player can guess a letter or guess the full word. If the player guesses a letter that is in the word, the computer will show the player the position of each instance of that letter.\n",
    "\n",
    "For example: Take the word \"Mississippi\" If the player chooses \"i\", the computer will print \"_ i _ _ i _ _ i _ _ i \" If the player then chooses, \"o\", the player will lose a 1 guess and now has 6 guesses.\n",
    "\n",
    "When the player has 0 guesses, the game is over and the player has lost. If the player guesses the word correctly, the game is over and the player has won. If the player guesses the word incorrectly and the total guesses left is greater then 2, they lose 1 guess. If they guess the word incorrectly and the total guesses they have left is 1, they lose the game."
   ]
  },
  {
   "cell_type": "markdown",
   "metadata": {},
   "source": [
    "Pseudocode\n",
    "1. Import full dictionary file\n",
    "2. Generate Random Word\n",
    "3. \"Guess\" variable to count number of guesses\n",
    "4. Create while loop for when \"guess\" is less than 7\n",
    "5. In while loop:\n",
    "    -create \"clue\" string for word with \"-\" for number of letters\n",
    "    -ask for letter or word: case sensitive\n",
    "    -check length of string to see if it is a letter or word\n",
    "    -if letter is guessed:\n",
    "        -loop through word and replace clue string with letter where it appears\n",
    "        -if the clue string stays the same increase the guess variable by a count of 1\n",
    "        -if clue string matches word: display \"you win\"\n",
    "    -if a word is guessed:\n",
    "        -if word matches random word: display \"you win\"\n",
    "        -else decrease count\n",
    "6. Once out of the while loop display: \"you lose\""
   ]
  },
  {
   "cell_type": "code",
   "execution_count": 132,
   "metadata": {},
   "outputs": [],
   "source": [
    "#import random package to generate a random word\n",
    "import random"
   ]
  },
  {
   "cell_type": "code",
   "execution_count": 133,
   "metadata": {},
   "outputs": [],
   "source": [
    "#open .txt file with words\n",
    "words=open('Words.txt').readlines()"
   ]
  },
  {
   "cell_type": "code",
   "execution_count": 134,
   "metadata": {},
   "outputs": [],
   "source": [
    "# custom method to clean file\n",
    "def clean_list(li):\n",
    "    temp=[]\n",
    "    for l in li:\n",
    "        temp.append(l.replace('\\n','').strip())\n",
    "    return temp"
   ]
  },
  {
   "cell_type": "code",
   "execution_count": 135,
   "metadata": {},
   "outputs": [],
   "source": [
    "#clean word list\n",
    "new_words=clean_list(words)\n",
    "#used words set\n",
    "used_words=set()\n",
    "#track record dictionary\n",
    "record={'Wins':0,'Losses':0}\n",
    "winnings={'Prize Money':0}\n",
    "wheel_options=[500,550,600,650,700,750,800,850,900,'bankrupt']"
   ]
  },
  {
   "cell_type": "code",
   "execution_count": 136,
   "metadata": {},
   "outputs": [],
   "source": [
    "#game method\n",
    "def guessing_game(st):\n",
    "    #Guess variable\n",
    "    guess=0\n",
    "    #create clue string\n",
    "    clue=\"\"\n",
    "    clue=clue.rjust(len(st),\"_\")\n",
    "    #set up graphic list\n",
    "    base= [\"\", \n",
    "        \"________ \", \n",
    "        \" \\n| \", \n",
    "        \" \\n| /\", \n",
    "        \"0\",\n",
    "        \"\\\\\",\n",
    "        \" \\n| /\",\n",
    "        \"|\",\n",
    "        \"\\\\\",\n",
    "        \" \\n| / \\\\\",\n",
    "        \" \\n|\",\n",
    "        \" \\n|\"]\n",
    "    base_string=\"\"\n",
    "    for t in base[:3]:\n",
    "        base_string+=t\n",
    "    prize=random.choice(wheel_options)\n",
    "    print(f'Prize money available for this round {prize}')\n",
    "    money=prize\n",
    "    #game method to run game\n",
    "    while guess<7:\n",
    "        #recieve guess from user\n",
    "        answer=str(input(\"Guess a letter or word: \")).lower()\n",
    "        #if length of answer is 1, than its a letter, else it is a word\n",
    "        if len(answer)==1:\n",
    "            word_list=list(clue) \n",
    "            change=[] \n",
    "            for index, r in enumerate(st):\n",
    "                if r==answer:\n",
    "                    word_list[index]=answer\n",
    "                    change.append(index)\n",
    "            if winnings['Prize Money']=='bankrupt':\n",
    "                winnings['Prize Money']=0\n",
    "            else:\n",
    "                winnings['Prize Money']+=(len(change)*money)\n",
    "            if len(change)==0: \n",
    "                    guess+=1\n",
    "                    print(f\"Letter is not in the word. Number of guesses left:{7-guess}\")\n",
    "                    for i in base[(guess+2):(3+guess)]:\n",
    "                        base_string+=(str(i))\n",
    "                    print(base_string)\n",
    "            clue=\"\".join(word_list)\n",
    "            if(clue==st):\n",
    "                record['Wins']+=1\n",
    "                print(\"You win!\")\n",
    "                print(winnings)\n",
    "                break\n",
    "            else:\n",
    "                print(f'Word:{clue}')\n",
    "                print(winnings)\n",
    "        elif answer==st:\n",
    "            record['Wins']+=1\n",
    "            if winnings['Prize Money']=='bankrupt':\n",
    "                winnings['Prize Money']+=5000\n",
    "            else:\n",
    "                winnings['Prize Money']+=2500\n",
    "            print(\"You Win!\")\n",
    "            print(winnings)\n",
    "            break\n",
    "        else:\n",
    "            if winnings['Prize Money']=='bankrupt':\n",
    "                winnings['Prize Money']=0\n",
    "            guess+=1\n",
    "            print(f\"Incorrect: Number of Guesses Left:{7-guess}\")\n",
    "            for i in base[(guess+2):(3+guess)]:\n",
    "                        base_string+=(str(i))\n",
    "            print(base_string)\n",
    "            \n",
    "    #once guesses are done display lose         \n",
    "    else:\n",
    "        record['Losses']+=1\n",
    "        print(f\"You Lose. The word was {st}\")\n",
    "    return str(input(\"Do you want to play again? yes or no?: \")).lower()\n"
   ]
  },
  {
   "cell_type": "code",
   "execution_count": 137,
   "metadata": {
    "scrolled": true
   },
   "outputs": [
    {
     "name": "stdout",
     "output_type": "stream",
     "text": [
      "Would you like to play a guessing game? yes or no?: yes\n",
      "Prize money available for this round 600\n",
      "Guess a letter or word: f\n",
      "Letter is not in the word. Number of guesses left:6\n",
      "________  \n",
      "|  \n",
      "| /\n",
      "Word:______\n",
      "{'Prize Money': 0}\n",
      "Guess a letter or word: z\n",
      "Letter is not in the word. Number of guesses left:5\n",
      "________  \n",
      "|  \n",
      "| /0\n",
      "Word:______\n",
      "{'Prize Money': 0}\n",
      "Guess a letter or word: d\n",
      "Word:d_____\n",
      "{'Prize Money': 600}\n"
     ]
    },
    {
     "ename": "KeyboardInterrupt",
     "evalue": "Interrupted by user",
     "output_type": "error",
     "traceback": [
      "\u001b[1;31m---------------------------------------------------------------------------\u001b[0m",
      "\u001b[1;31mKeyboardInterrupt\u001b[0m                         Traceback (most recent call last)",
      "\u001b[1;32m<ipython-input-137-e5d088dbe8b2>\u001b[0m in \u001b[0;36m<module>\u001b[1;34m\u001b[0m\n\u001b[0;32m      8\u001b[0m         \u001b[0mran\u001b[0m\u001b[1;33m=\u001b[0m\u001b[0mrandom\u001b[0m\u001b[1;33m.\u001b[0m\u001b[0mchoice\u001b[0m\u001b[1;33m(\u001b[0m\u001b[0mnew_words\u001b[0m\u001b[1;33m)\u001b[0m\u001b[1;33m.\u001b[0m\u001b[0mlower\u001b[0m\u001b[1;33m(\u001b[0m\u001b[1;33m)\u001b[0m\u001b[1;33m\u001b[0m\u001b[1;33m\u001b[0m\u001b[0m\n\u001b[0;32m      9\u001b[0m     \u001b[0mused_words\u001b[0m\u001b[1;33m.\u001b[0m\u001b[0madd\u001b[0m\u001b[1;33m(\u001b[0m\u001b[0mran\u001b[0m\u001b[1;33m)\u001b[0m\u001b[1;33m\u001b[0m\u001b[1;33m\u001b[0m\u001b[0m\n\u001b[1;32m---> 10\u001b[1;33m     \u001b[0mplay\u001b[0m\u001b[1;33m=\u001b[0m\u001b[0mguessing_game\u001b[0m\u001b[1;33m(\u001b[0m\u001b[0mran\u001b[0m\u001b[1;33m)\u001b[0m\u001b[1;33m\u001b[0m\u001b[1;33m\u001b[0m\u001b[0m\n\u001b[0m\u001b[0;32m     11\u001b[0m     \u001b[1;32mwhile\u001b[0m \u001b[0mplay\u001b[0m\u001b[1;33m!=\u001b[0m\u001b[1;34m\"no\"\u001b[0m \u001b[1;32mand\u001b[0m \u001b[0mplay\u001b[0m\u001b[1;33m!=\u001b[0m\u001b[1;34m\"yes\"\u001b[0m\u001b[1;33m:\u001b[0m\u001b[1;33m\u001b[0m\u001b[1;33m\u001b[0m\u001b[0m\n\u001b[0;32m     12\u001b[0m         \u001b[0mplay\u001b[0m\u001b[1;33m=\u001b[0m\u001b[0mstr\u001b[0m\u001b[1;33m(\u001b[0m\u001b[0minput\u001b[0m\u001b[1;33m(\u001b[0m\u001b[1;34m\"Please input yes or no. \"\u001b[0m\u001b[1;33m)\u001b[0m\u001b[1;33m)\u001b[0m\u001b[1;33m.\u001b[0m\u001b[0mlower\u001b[0m\u001b[1;33m(\u001b[0m\u001b[1;33m)\u001b[0m\u001b[1;33m\u001b[0m\u001b[1;33m\u001b[0m\u001b[0m\n",
      "\u001b[1;32m<ipython-input-136-f61fb6c776b7>\u001b[0m in \u001b[0;36mguessing_game\u001b[1;34m(st)\u001b[0m\n\u001b[0;32m     28\u001b[0m     \u001b[1;32mwhile\u001b[0m \u001b[0mguess\u001b[0m\u001b[1;33m<\u001b[0m\u001b[1;36m7\u001b[0m\u001b[1;33m:\u001b[0m\u001b[1;33m\u001b[0m\u001b[1;33m\u001b[0m\u001b[0m\n\u001b[0;32m     29\u001b[0m         \u001b[1;31m#recieve guess from user\u001b[0m\u001b[1;33m\u001b[0m\u001b[1;33m\u001b[0m\u001b[1;33m\u001b[0m\u001b[0m\n\u001b[1;32m---> 30\u001b[1;33m         \u001b[0manswer\u001b[0m\u001b[1;33m=\u001b[0m\u001b[0mstr\u001b[0m\u001b[1;33m(\u001b[0m\u001b[0minput\u001b[0m\u001b[1;33m(\u001b[0m\u001b[1;34m\"Guess a letter or word: \"\u001b[0m\u001b[1;33m)\u001b[0m\u001b[1;33m)\u001b[0m\u001b[1;33m.\u001b[0m\u001b[0mlower\u001b[0m\u001b[1;33m(\u001b[0m\u001b[1;33m)\u001b[0m\u001b[1;33m\u001b[0m\u001b[1;33m\u001b[0m\u001b[0m\n\u001b[0m\u001b[0;32m     31\u001b[0m         \u001b[1;31m#if length of answer is 1, than its a letter, else it is a word\u001b[0m\u001b[1;33m\u001b[0m\u001b[1;33m\u001b[0m\u001b[1;33m\u001b[0m\u001b[0m\n\u001b[0;32m     32\u001b[0m         \u001b[1;32mif\u001b[0m \u001b[0mlen\u001b[0m\u001b[1;33m(\u001b[0m\u001b[0manswer\u001b[0m\u001b[1;33m)\u001b[0m\u001b[1;33m==\u001b[0m\u001b[1;36m1\u001b[0m\u001b[1;33m:\u001b[0m\u001b[1;33m\u001b[0m\u001b[1;33m\u001b[0m\u001b[0m\n",
      "\u001b[1;32m~\\anaconda3\\lib\\site-packages\\ipykernel\\kernelbase.py\u001b[0m in \u001b[0;36mraw_input\u001b[1;34m(self, prompt)\u001b[0m\n\u001b[0;32m    858\u001b[0m                 \u001b[1;34m\"raw_input was called, but this frontend does not support input requests.\"\u001b[0m\u001b[1;33m\u001b[0m\u001b[1;33m\u001b[0m\u001b[0m\n\u001b[0;32m    859\u001b[0m             )\n\u001b[1;32m--> 860\u001b[1;33m         return self._input_request(str(prompt),\n\u001b[0m\u001b[0;32m    861\u001b[0m             \u001b[0mself\u001b[0m\u001b[1;33m.\u001b[0m\u001b[0m_parent_ident\u001b[0m\u001b[1;33m,\u001b[0m\u001b[1;33m\u001b[0m\u001b[1;33m\u001b[0m\u001b[0m\n\u001b[0;32m    862\u001b[0m             \u001b[0mself\u001b[0m\u001b[1;33m.\u001b[0m\u001b[0m_parent_header\u001b[0m\u001b[1;33m,\u001b[0m\u001b[1;33m\u001b[0m\u001b[1;33m\u001b[0m\u001b[0m\n",
      "\u001b[1;32m~\\anaconda3\\lib\\site-packages\\ipykernel\\kernelbase.py\u001b[0m in \u001b[0;36m_input_request\u001b[1;34m(self, prompt, ident, parent, password)\u001b[0m\n\u001b[0;32m    902\u001b[0m             \u001b[1;32mexcept\u001b[0m \u001b[0mKeyboardInterrupt\u001b[0m\u001b[1;33m:\u001b[0m\u001b[1;33m\u001b[0m\u001b[1;33m\u001b[0m\u001b[0m\n\u001b[0;32m    903\u001b[0m                 \u001b[1;31m# re-raise KeyboardInterrupt, to truncate traceback\u001b[0m\u001b[1;33m\u001b[0m\u001b[1;33m\u001b[0m\u001b[1;33m\u001b[0m\u001b[0m\n\u001b[1;32m--> 904\u001b[1;33m                 \u001b[1;32mraise\u001b[0m \u001b[0mKeyboardInterrupt\u001b[0m\u001b[1;33m(\u001b[0m\u001b[1;34m\"Interrupted by user\"\u001b[0m\u001b[1;33m)\u001b[0m \u001b[1;32mfrom\u001b[0m \u001b[1;32mNone\u001b[0m\u001b[1;33m\u001b[0m\u001b[1;33m\u001b[0m\u001b[0m\n\u001b[0m\u001b[0;32m    905\u001b[0m             \u001b[1;32mexcept\u001b[0m \u001b[0mException\u001b[0m \u001b[1;32mas\u001b[0m \u001b[0me\u001b[0m\u001b[1;33m:\u001b[0m\u001b[1;33m\u001b[0m\u001b[1;33m\u001b[0m\u001b[0m\n\u001b[0;32m    906\u001b[0m                 \u001b[0mself\u001b[0m\u001b[1;33m.\u001b[0m\u001b[0mlog\u001b[0m\u001b[1;33m.\u001b[0m\u001b[0mwarning\u001b[0m\u001b[1;33m(\u001b[0m\u001b[1;34m\"Invalid Message:\"\u001b[0m\u001b[1;33m,\u001b[0m \u001b[0mexc_info\u001b[0m\u001b[1;33m=\u001b[0m\u001b[1;32mTrue\u001b[0m\u001b[1;33m)\u001b[0m\u001b[1;33m\u001b[0m\u001b[1;33m\u001b[0m\u001b[0m\n",
      "\u001b[1;31mKeyboardInterrupt\u001b[0m: Interrupted by user"
     ]
    }
   ],
   "source": [
    "play=str(input(\"Would you like to play a guessing game? yes or no?: \")).lower()\n",
    "while play!=\"no\" and play!=\"yes\":\n",
    "    play=str(input(\"Please input yes or no. \")).lower()\n",
    "while play=='yes':\n",
    "    #Random Word\n",
    "    ran=random.choice(new_words).lower()\n",
    "    while ran in used_words:\n",
    "        ran=random.choice(new_words).lower()\n",
    "    used_words.add(ran)\n",
    "    play=guessing_game(ran)\n",
    "    while play!=\"no\" and play!=\"yes\":\n",
    "        play=str(input(\"Please input yes or no. \")).lower()\n",
    "if play=='no':\n",
    "    print(f'Thanks for playing! {record}')\n",
    "    print(f'Your total prize winnings:{prize}')\n",
    "    print(f'Words used {used_words}')"
   ]
  },
  {
   "cell_type": "code",
   "execution_count": null,
   "metadata": {},
   "outputs": [],
   "source": [
    "\n"
   ]
  },
  {
   "cell_type": "code",
   "execution_count": null,
   "metadata": {},
   "outputs": [],
   "source": []
  },
  {
   "cell_type": "code",
   "execution_count": null,
   "metadata": {},
   "outputs": [],
   "source": []
  },
  {
   "cell_type": "code",
   "execution_count": null,
   "metadata": {},
   "outputs": [],
   "source": []
  },
  {
   "cell_type": "code",
   "execution_count": null,
   "metadata": {},
   "outputs": [],
   "source": []
  },
  {
   "cell_type": "code",
   "execution_count": null,
   "metadata": {},
   "outputs": [],
   "source": []
  }
 ],
 "metadata": {
  "kernelspec": {
   "display_name": "Python 3",
   "language": "python",
   "name": "python3"
  },
  "language_info": {
   "codemirror_mode": {
    "name": "ipython",
    "version": 3
   },
   "file_extension": ".py",
   "mimetype": "text/x-python",
   "name": "python",
   "nbconvert_exporter": "python",
   "pygments_lexer": "ipython3",
   "version": "3.8.5"
  }
 },
 "nbformat": 4,
 "nbformat_minor": 4
}
